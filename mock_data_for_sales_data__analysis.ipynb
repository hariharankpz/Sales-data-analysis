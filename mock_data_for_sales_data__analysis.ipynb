{
  "nbformat": 4,
  "nbformat_minor": 0,
  "metadata": {
    "colab": {
      "provenance": []
    },
    "kernelspec": {
      "name": "python3",
      "display_name": "Python 3"
    },
    "language_info": {
      "name": "python"
    }
  },
  "cells": [
    {
      "cell_type": "markdown",
      "source": [],
      "metadata": {
        "id": "2Sgp-9A8ojrF"
      }
    },
    {
      "cell_type": "code",
      "source": [
        "import boto3\n",
        "import random\n",
        "import time\n",
        "from decimal import Decimal\n"
      ],
      "metadata": {
        "id": "za6FIB3mVOZv"
      },
      "execution_count": null,
      "outputs": []
    },
    {
      "cell_type": "code",
      "source": [
        "# Initialize a session using your AWS configuration\n",
        "session = boto3.Session(\n",
        "aws_access_key_id='*************',\n",
        "aws_secret_access_key='************************',\n",
        "region_name='us-east-1')\n",
        "\n",
        "\n",
        "# Create a DynamoDB resource object\n",
        "dynamodb = session.resource('dynamodb')\n",
        "\n",
        "# Specify the table name\n",
        "table_name = 'OrdersRawTable'\n",
        "\n",
        "# Get a reference to the DynamoDB table\n",
        "table = dynamodb.Table(table_name)\n",
        "\n",
        "\n"
      ],
      "metadata": {
        "id": "Q1fYMOSTRZCF"
      },
      "execution_count": null,
      "outputs": []
    },
    {
      "cell_type": "code",
      "source": [
        "\n",
        "\n",
        "def generate_order_data():\n",
        "    \"\"\"Generate random order data.\"\"\"\n",
        "    orderid = str(random.randint(1, 10000))  # Random order ID between 1 and 10000\n",
        "    product_name = random.choice(['Laptop', 'Phone', 'Tablet', 'Headphones', 'Charger'])\n",
        "    quantity = random.randint(1, 5)\n",
        "    price = Decimal(str(round(random.uniform(10.0, 500.0), 2)))\n",
        "\n",
        "    return {\n",
        "        'orderid': orderid,\n",
        "        'product_name': product_name,\n",
        "        'quantity': quantity,\n",
        "        'price': price\n",
        "    }\n",
        "\n",
        "def insert_into_dynamodb(data):\n",
        "    \"\"\"Insert data into DynamoDB.\"\"\"\n",
        "    try:\n",
        "        table.put_item(Item=data)\n",
        "        print(f\"Inserted data: {data}\")\n",
        "    except Exception as e:\n",
        "        print(f\"Error inserting data: {str(e)}\")\n",
        "\n",
        "for i in range(5):\n",
        "  data = generate_order_data()\n",
        "  insert_into_dynamodb(data)\n",
        "  time.sleep(1)  # Sleep for 10 seconds\n"
      ],
      "metadata": {
        "colab": {
          "base_uri": "https://localhost:8080/"
        },
        "id": "51RbN3sJUxVX",
        "outputId": "6bd59c73-f5e1-4a78-98e1-c16de7cb0b81"
      },
      "execution_count": null,
      "outputs": [
        {
          "output_type": "stream",
          "name": "stdout",
          "text": [
            "Inserted data: {'orderid': '6118', 'product_name': 'Phone', 'quantity': 4, 'price': Decimal('314.37')}\n",
            "Inserted data: {'orderid': '4212', 'product_name': 'Laptop', 'quantity': 1, 'price': Decimal('265.33')}\n",
            "Inserted data: {'orderid': '7957', 'product_name': 'Laptop', 'quantity': 2, 'price': Decimal('348.12')}\n",
            "Inserted data: {'orderid': '8589', 'product_name': 'Laptop', 'quantity': 4, 'price': Decimal('464.16')}\n",
            "Inserted data: {'orderid': '299', 'product_name': 'Headphones', 'quantity': 5, 'price': Decimal('327.74')}\n"
          ]
        }
      ]
    },
    {
      "cell_type": "code",
      "source": [
        "# Example: Scan all items in the table\n",
        "response = table.scan()\n",
        "\n",
        "# Print all items\n",
        "items = response['Items']\n",
        "for item in items:\n",
        "    print('Item:', item)\n",
        "\n",
        "# If there are more items, paginate through them\n",
        "while 'LastEvaluatedKey' in response:\n",
        "    response = table.scan(ExclusiveStartKey=response['LastEvaluatedKey'])\n",
        "    items.extend(response['Items'])\n",
        "    for item in response['Items']:\n",
        "        print('Item:', item)"
      ],
      "metadata": {
        "colab": {
          "base_uri": "https://localhost:8080/"
        },
        "id": "4FzYgTaaVUBZ",
        "outputId": "70a097f0-df5d-40bb-87de-66b010c818e0"
      },
      "execution_count": null,
      "outputs": [
        {
          "output_type": "stream",
          "name": "stdout",
          "text": [
            "Item: {'quantity': Decimal('2'), 'price': Decimal('126.81'), 'product_name': 'Laptop', 'orderid': '5004'}\n",
            "Item: {'quantity': Decimal('3'), 'price': Decimal('90.85'), 'product_name': 'Headphones', 'orderid': '8031'}\n",
            "Item: {'quantity': Decimal('1'), 'price': Decimal('260.69'), 'product_name': 'Charger', 'orderid': '3736'}\n",
            "Item: {'quantity': Decimal('2'), 'price': Decimal('298.56'), 'product_name': 'Laptop', 'orderid': '3249'}\n",
            "Item: {'quantity': Decimal('1'), 'price': Decimal('159.33'), 'product_name': 'Laptop', 'orderid': '4508'}\n"
          ]
        }
      ]
    },
    {
      "cell_type": "code",
      "source": [],
      "metadata": {
        "id": "PvofmFgdX2H2"
      },
      "execution_count": null,
      "outputs": []
    }
  ]
}